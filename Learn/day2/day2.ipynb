{
 "cells": [
  {
   "cell_type": "code",
   "execution_count": 7,
   "id": "a094f909",
   "metadata": {},
   "outputs": [
    {
     "name": "stdout",
     "output_type": "stream",
     "text": [
      "haan bhai same hain\n",
      "Machine Learning\n"
     ]
    }
   ],
   "source": [
    "a =45\n",
    "b=45\n",
    "if a>b:\n",
    "    print(\"a>b\")\n",
    "elif a==b:\n",
    "    print(\"haan bhai same hain\")\n",
    "    \n",
    "else:\n",
    "    print(False)\n",
    "print(\"Machine Learning\")"
   ]
  },
  {
   "cell_type": "code",
   "execution_count": 9,
   "id": "3b8084d8",
   "metadata": {},
   "outputs": [
    {
     "name": "stdout",
     "output_type": "stream",
     "text": [
      "mission\n"
     ]
    }
   ],
   "source": [
    "a=24\n",
    "b=48\n",
    "c=24\n",
    "if b>a and b==2*a:\n",
    "    print(\"mission\")"
   ]
  },
  {
   "cell_type": "code",
   "execution_count": 13,
   "id": "5b66fadf",
   "metadata": {},
   "outputs": [
    {
     "name": "stdout",
     "output_type": "stream",
     "text": [
      "NOOpee\n"
     ]
    }
   ],
   "source": [
    "a=1\n",
    "if a>10:\n",
    "    print(\"a is greater than 10\")\n",
    "    if a>20:\n",
    "        print(\"a is also greater than 20\")\n",
    "    else:\n",
    "        print(\"Down but not fallen\")\n",
    "else:\n",
    "    print(\"NOOpee\")"
   ]
  },
  {
   "cell_type": "code",
   "execution_count": 14,
   "id": "a9b12ec2",
   "metadata": {},
   "outputs": [
    {
     "name": "stdout",
     "output_type": "stream",
     "text": [
      "25\n",
      "<class 'float'>\n"
     ]
    }
   ],
   "source": [
    "a=float(input())\n",
    "a\n",
    "print(type(a))"
   ]
  },
  {
   "cell_type": "code",
   "execution_count": 15,
   "id": "723b3072",
   "metadata": {},
   "outputs": [
    {
     "name": "stdout",
     "output_type": "stream",
     "text": [
      "25.0\n"
     ]
    }
   ],
   "source": [
    "print(a)"
   ]
  },
  {
   "cell_type": "code",
   "execution_count": 22,
   "id": "8e291d67",
   "metadata": {},
   "outputs": [
    {
     "name": "stdout",
     "output_type": "stream",
     "text": [
      "Enter a11\n",
      "Enter b11\n",
      "Enter c11\n",
      "Largest number is 11\n"
     ]
    }
   ],
   "source": [
    "#find greatest nnumber among 3 inputs\n",
    "a=int(input(\"Enter a\"))\n",
    "b=int(input(\"Enter b\"\n",
    "c=int(input(\"Enter c\"))\n",
    "if a>b and a>c:\n",
    "    largest=a\n",
    "elif b>a and b>c:\n",
    "    largest=b\n",
    "else :\n",
    "    largest=c\n",
    "\n",
    "    \n",
    "print(\"Largest number is\", largest)\n"
   ]
  },
  {
   "cell_type": "code",
   "execution_count": null,
   "id": "ad4cc67c",
   "metadata": {},
   "outputs": [],
   "source": [
    "i=10\n",
    "while i<17:\n",
    "    print(i)\n",
    "    i+=1\n",
    "\n",
    "    "
   ]
  },
  {
   "cell_type": "code",
   "execution_count": null,
   "id": "d55b6c72",
   "metadata": {},
   "outputs": [],
   "source": [
    "i=10\n",
    "while i<17:\n",
    "    print(i)\n",
    "    i+=1\n",
    "    "
   ]
  }
 ],
 "metadata": {
  "kernelspec": {
   "display_name": "Python 3 (ipykernel)",
   "language": "python",
   "name": "python3"
  },
  "language_info": {
   "codemirror_mode": {
    "name": "ipython",
    "version": 3
   },
   "file_extension": ".py",
   "mimetype": "text/x-python",
   "name": "python",
   "nbconvert_exporter": "python",
   "pygments_lexer": "ipython3",
   "version": "3.10.9"
  }
 },
 "nbformat": 4,
 "nbformat_minor": 5
}
