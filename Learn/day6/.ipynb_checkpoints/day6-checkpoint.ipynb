{
 "cells": [
  {
   "cell_type": "code",
   "execution_count": 1,
   "id": "9746bcb7",
   "metadata": {},
   "outputs": [],
   "source": [
    "import numpy as np"
   ]
  },
  {
   "cell_type": "code",
   "execution_count": 2,
   "id": "939419d8",
   "metadata": {},
   "outputs": [],
   "source": [
    "arr = np.array([1,2,3,4])"
   ]
  },
  {
   "cell_type": "code",
   "execution_count": 3,
   "id": "55e8da52",
   "metadata": {},
   "outputs": [
    {
     "data": {
      "text/plain": [
       "array([1, 2, 3, 4])"
      ]
     },
     "execution_count": 3,
     "metadata": {},
     "output_type": "execute_result"
    }
   ],
   "source": [
    "arr"
   ]
  },
  {
   "cell_type": "code",
   "execution_count": 4,
   "id": "20f5a6cc",
   "metadata": {},
   "outputs": [],
   "source": [
    "#data type of an array\n",
    "arr=np.array([1,2,3,4],dtype=str)\n"
   ]
  },
  {
   "cell_type": "code",
   "execution_count": 5,
   "id": "2d779eb8",
   "metadata": {},
   "outputs": [],
   "source": [
    "arr1=np.arange(10,40,2)"
   ]
  },
  {
   "cell_type": "code",
   "execution_count": 6,
   "id": "318d5513",
   "metadata": {},
   "outputs": [
    {
     "data": {
      "text/plain": [
       "array([10, 12, 14, 16, 18, 20, 22, 24, 26, 28, 30, 32, 34, 36, 38])"
      ]
     },
     "execution_count": 6,
     "metadata": {},
     "output_type": "execute_result"
    }
   ],
   "source": [
    "arr1"
   ]
  },
  {
   "cell_type": "code",
   "execution_count": 7,
   "id": "e135a703",
   "metadata": {},
   "outputs": [],
   "source": [
    "#inserting data in a array\n",
    "arr1=np.insert(arr1,5,2)"
   ]
  },
  {
   "cell_type": "code",
   "execution_count": 8,
   "id": "0dd29108",
   "metadata": {},
   "outputs": [],
   "source": [
    "#deleting an array\n",
    "arr1=np.delete(arr1,5)"
   ]
  },
  {
   "cell_type": "code",
   "execution_count": 9,
   "id": "1034ff38",
   "metadata": {},
   "outputs": [
    {
     "data": {
      "text/plain": [
       "array([10, 12, 14, 16, 18, 20, 22, 24, 26, 28, 30, 32, 34, 36, 38])"
      ]
     },
     "execution_count": 9,
     "metadata": {},
     "output_type": "execute_result"
    }
   ],
   "source": [
    "arr1"
   ]
  },
  {
   "cell_type": "code",
   "execution_count": 10,
   "id": "7179c7e4",
   "metadata": {},
   "outputs": [
    {
     "data": {
      "text/plain": [
       "(15,)"
      ]
     },
     "execution_count": 10,
     "metadata": {},
     "output_type": "execute_result"
    }
   ],
   "source": [
    "arr1.shape"
   ]
  },
  {
   "cell_type": "code",
   "execution_count": 11,
   "id": "f6d391c1",
   "metadata": {},
   "outputs": [],
   "source": [
    "#matrices\n",
    "arr2=np.array([[1,2,3,4],[5,6,7,8],[9,10,11,12]])"
   ]
  },
  {
   "cell_type": "code",
   "execution_count": 12,
   "id": "cf449a4c",
   "metadata": {},
   "outputs": [
    {
     "data": {
      "text/plain": [
       "(3, 4)"
      ]
     },
     "execution_count": 12,
     "metadata": {},
     "output_type": "execute_result"
    }
   ],
   "source": [
    "arr2.shape"
   ]
  },
  {
   "cell_type": "code",
   "execution_count": 23,
   "id": "e4c3d358",
   "metadata": {},
   "outputs": [
    {
     "ename": "NameError",
     "evalue": "name 'arr5' is not defined",
     "output_type": "error",
     "traceback": [
      "\u001b[0;31m---------------------------------------------------------------------------\u001b[0m",
      "\u001b[0;31mNameError\u001b[0m                                 Traceback (most recent call last)",
      "Cell \u001b[0;32mIn[23], line 1\u001b[0m\n\u001b[0;32m----> 1\u001b[0m \u001b[43marr5\u001b[49m\n",
      "\u001b[0;31mNameError\u001b[0m: name 'arr5' is not defined"
     ]
    }
   ],
   "source": []
  },
  {
   "cell_type": "code",
   "execution_count": 14,
   "id": "9265e271",
   "metadata": {},
   "outputs": [],
   "source": [
    "#\n",
    "a=[i for i in range(10000000)]"
   ]
  },
  {
   "cell_type": "code",
   "execution_count": 15,
   "id": "26a1c37a",
   "metadata": {},
   "outputs": [],
   "source": [
    "b=[[i for i in range(10000000,100000000)]]"
   ]
  },
  {
   "cell_type": "code",
   "execution_count": 16,
   "id": "181a1fa0",
   "metadata": {},
   "outputs": [],
   "source": [
    "c=[]"
   ]
  },
  {
   "cell_type": "code",
   "execution_count": 17,
   "id": "3a3cfe39",
   "metadata": {},
   "outputs": [
    {
     "name": "stdout",
     "output_type": "stream",
     "text": [
      "1.1517939567565918\n"
     ]
    }
   ],
   "source": [
    "a=[i for i in range(10000000)]\n",
    "b=[i for i in range(10000000,100000000)]\n",
    "c=[]\n",
    "import time\n",
    "start=time.time()\n",
    "for i in range(len(a)):\n",
    "    c.append(a[i]+b[i])\n",
    "print(time.time()-start)"
   ]
  },
  {
   "cell_type": "code",
   "execution_count": 21,
   "id": "e9bffd17",
   "metadata": {},
   "outputs": [
    {
     "name": "stdout",
     "output_type": "stream",
     "text": [
      "0.02115488052368164\n"
     ]
    }
   ],
   "source": [
    "arr1=np.arange(10000000)\n",
    "arr2=np.arange(10000000,20000000)\n",
    "import time\n",
    "start=time.time()\n",
    "arr3=arr1+arr2\n",
    "print(time.time()-start)"
   ]
  },
  {
   "cell_type": "code",
   "execution_count": 22,
   "id": "77e4c796",
   "metadata": {},
   "outputs": [
    {
     "data": {
      "text/plain": [
       "13.191489361702128"
      ]
     },
     "execution_count": 22,
     "metadata": {},
     "output_type": "execute_result"
    }
   ],
   "source": [
    "6.2/0.47\n"
   ]
  },
  {
   "cell_type": "code",
   "execution_count": 36,
   "id": "161ce91f",
   "metadata": {},
   "outputs": [],
   "source": [
    "mat=np.array([[1,2,3,4],[5,6,7,8],[9,10,11,12],[13,14,15,16]])"
   ]
  },
  {
   "cell_type": "code",
   "execution_count": 37,
   "id": "87201c0f",
   "metadata": {},
   "outputs": [
    {
     "name": "stdout",
     "output_type": "stream",
     "text": [
      "[[ 1  2  3  4]\n",
      " [ 5  6  7  8]\n",
      " [ 9 10 11 12]\n",
      " [13 14 15 16]]\n"
     ]
    }
   ],
   "source": [
    "print(mat)"
   ]
  },
  {
   "cell_type": "code",
   "execution_count": 42,
   "id": "68766174",
   "metadata": {},
   "outputs": [
    {
     "data": {
      "text/plain": [
       "4"
      ]
     },
     "execution_count": 42,
     "metadata": {},
     "output_type": "execute_result"
    }
   ],
   "source": [
    "mat[0,3]"
   ]
  },
  {
   "cell_type": "code",
   "execution_count": null,
   "id": "08aa4a16",
   "metadata": {},
   "outputs": [],
   "source": []
  }
 ],
 "metadata": {
  "kernelspec": {
   "display_name": "Python 3 (ipykernel)",
   "language": "python",
   "name": "python3"
  },
  "language_info": {
   "codemirror_mode": {
    "name": "ipython",
    "version": 3
   },
   "file_extension": ".py",
   "mimetype": "text/x-python",
   "name": "python",
   "nbconvert_exporter": "python",
   "pygments_lexer": "ipython3",
   "version": "3.10.8"
  }
 },
 "nbformat": 4,
 "nbformat_minor": 5
}
