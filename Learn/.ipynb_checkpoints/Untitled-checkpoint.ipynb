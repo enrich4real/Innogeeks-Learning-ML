{
 "cells": [
  {
   "cell_type": "code",
   "execution_count": 2,
   "id": "75109c86",
   "metadata": {},
   "outputs": [
    {
     "name": "stdout",
     "output_type": "stream",
     "text": [
      "1\n",
      "2\n",
      "3\n",
      "4\n",
      "5\n",
      "6\n",
      "7\n",
      "8\n",
      "9\n"
     ]
    }
   ],
   "source": [
    "for i in range(1,10):\n",
    "    print(i)"
   ]
  },
  {
   "cell_type": "code",
   "execution_count": 3,
   "id": "1c04684a",
   "metadata": {},
   "outputs": [
    {
     "name": "stdout",
     "output_type": "stream",
     "text": [
      "['hi', 'I', 'am', 'here']\n"
     ]
    }
   ],
   "source": [
    "list=[\"hi\", \"I\", \"am\" , \"here\"]\n",
    "print(list)"
   ]
  },
  {
   "cell_type": "code",
   "execution_count": 4,
   "id": "de0b4037",
   "metadata": {},
   "outputs": [
    {
     "name": "stdout",
     "output_type": "stream",
     "text": [
      "hi\n",
      "I\n",
      "am\n",
      "here\n"
     ]
    }
   ],
   "source": [
    "for i in list:\n",
    "    print(i)"
   ]
  },
  {
   "cell_type": "code",
   "execution_count": 5,
   "id": "248e240d",
   "metadata": {},
   "outputs": [],
   "source": [
    "list.append(10)"
   ]
  },
  {
   "cell_type": "code",
   "execution_count": 6,
   "id": "b65ebdd8",
   "metadata": {},
   "outputs": [
    {
     "name": "stdout",
     "output_type": "stream",
     "text": [
      "['hi', 'I', 'am', 'here', 10]\n"
     ]
    }
   ],
   "source": [
    "print(list)"
   ]
  },
  {
   "cell_type": "code",
   "execution_count": 8,
   "id": "6c3dbbaf",
   "metadata": {},
   "outputs": [],
   "source": [
    "list.append(\"years\")"
   ]
  },
  {
   "cell_type": "code",
   "execution_count": 9,
   "id": "778f2d25",
   "metadata": {},
   "outputs": [
    {
     "name": "stdout",
     "output_type": "stream",
     "text": [
      "['hi', 'I', 'am', 'here', 10, 'years']\n"
     ]
    }
   ],
   "source": [
    "print(list)"
   ]
  },
  {
   "cell_type": "code",
   "execution_count": 10,
   "id": "bf56d14d",
   "metadata": {},
   "outputs": [],
   "source": [
    "list.insert(2,11)"
   ]
  },
  {
   "cell_type": "code",
   "execution_count": 11,
   "id": "55665321",
   "metadata": {},
   "outputs": [
    {
     "name": "stdout",
     "output_type": "stream",
     "text": [
      "['hi', 'I', 11, 'am', 'here', 10, 'years']\n"
     ]
    }
   ],
   "source": [
    "print(list)"
   ]
  },
  {
   "cell_type": "code",
   "execution_count": 13,
   "id": "9744fbd8",
   "metadata": {},
   "outputs": [
    {
     "name": "stdout",
     "output_type": "stream",
     "text": [
      "[0, 1, 2, 3, 4]\n",
      "[10, 11, 12, 13, 14]\n"
     ]
    }
   ],
   "source": [
    "l=[10,11,12,13,14]\n",
    "\n",
    "x_lst = []\n",
    "y_lst = []\n",
    "\n",
    "for x,y in enumerate(l):\n",
    "    x_lst.append(x)\n",
    "    y_lst.append(y)\n",
    "\n",
    "print(x_lst)\n",
    "print(y_lst)"
   ]
  },
  {
   "cell_type": "code",
   "execution_count": 14,
   "id": "af3aecdc",
   "metadata": {},
   "outputs": [
    {
     "data": {
      "text/plain": [
       "'years'"
      ]
     },
     "execution_count": 14,
     "metadata": {},
     "output_type": "execute_result"
    }
   ],
   "source": [
    "list.pop()"
   ]
  },
  {
   "cell_type": "code",
   "execution_count": 15,
   "id": "40d47a02",
   "metadata": {},
   "outputs": [
    {
     "data": {
      "text/plain": [
       "['hi', 'I', 11, 'am', 'here', 10]"
      ]
     },
     "execution_count": 15,
     "metadata": {},
     "output_type": "execute_result"
    }
   ],
   "source": [
    "list"
   ]
  },
  {
   "cell_type": "code",
   "execution_count": 17,
   "id": "f2292454",
   "metadata": {},
   "outputs": [
    {
     "data": {
      "text/plain": [
       "'I'"
      ]
     },
     "execution_count": 17,
     "metadata": {},
     "output_type": "execute_result"
    }
   ],
   "source": [
    "list.pop(1)"
   ]
  },
  {
   "cell_type": "code",
   "execution_count": 23,
   "id": "598ae63f",
   "metadata": {},
   "outputs": [
    {
     "data": {
      "text/plain": [
       "['hi', 11, 'am', 'here', 10]"
      ]
     },
     "execution_count": 23,
     "metadata": {},
     "output_type": "execute_result"
    }
   ],
   "source": [
    "list"
   ]
  },
  {
   "cell_type": "code",
   "execution_count": 24,
   "id": "ac591894",
   "metadata": {},
   "outputs": [
    {
     "data": {
      "text/plain": [
       "10"
      ]
     },
     "execution_count": 24,
     "metadata": {},
     "output_type": "execute_result"
    }
   ],
   "source": [
    "list.pop()"
   ]
  },
  {
   "cell_type": "code",
   "execution_count": 25,
   "id": "5ce43fe4",
   "metadata": {},
   "outputs": [
    {
     "ename": "TypeError",
     "evalue": "'<' not supported between instances of 'int' and 'str'",
     "output_type": "error",
     "traceback": [
      "\u001b[1;31m---------------------------------------------------------------------------\u001b[0m",
      "\u001b[1;31mTypeError\u001b[0m                                 Traceback (most recent call last)",
      "\u001b[1;32m~\\AppData\\Local\\Temp\\ipykernel_7056\\1389050415.py\u001b[0m in \u001b[0;36m<module>\u001b[1;34m\u001b[0m\n\u001b[1;32m----> 1\u001b[1;33m \u001b[0mlist\u001b[0m\u001b[1;33m.\u001b[0m\u001b[0msort\u001b[0m\u001b[1;33m(\u001b[0m\u001b[1;33m)\u001b[0m\u001b[1;33m\u001b[0m\u001b[1;33m\u001b[0m\u001b[0m\n\u001b[0m",
      "\u001b[1;31mTypeError\u001b[0m: '<' not supported between instances of 'int' and 'str'"
     ]
    }
   ],
   "source": [
    "list.sort()"
   ]
  },
  {
   "cell_type": "code",
   "execution_count": 26,
   "id": "35e026a0",
   "metadata": {},
   "outputs": [
    {
     "data": {
      "text/plain": [
       "11"
      ]
     },
     "execution_count": 26,
     "metadata": {},
     "output_type": "execute_result"
    }
   ],
   "source": [
    "list.pop(1)"
   ]
  },
  {
   "cell_type": "code",
   "execution_count": 27,
   "id": "a7c56151",
   "metadata": {},
   "outputs": [],
   "source": [
    "list.sort()"
   ]
  },
  {
   "cell_type": "code",
   "execution_count": 28,
   "id": "1836cb03",
   "metadata": {},
   "outputs": [
    {
     "data": {
      "text/plain": [
       "['am', 'here', 'hi']"
      ]
     },
     "execution_count": 28,
     "metadata": {},
     "output_type": "execute_result"
    }
   ],
   "source": [
    "list"
   ]
  },
  {
   "cell_type": "code",
   "execution_count": 29,
   "id": "c91b30ee",
   "metadata": {},
   "outputs": [],
   "source": [
    "list.sort(reverse=True)"
   ]
  },
  {
   "cell_type": "code",
   "execution_count": 30,
   "id": "f21ce307",
   "metadata": {},
   "outputs": [
    {
     "data": {
      "text/plain": [
       "['hi', 'here', 'am']"
      ]
     },
     "execution_count": 30,
     "metadata": {},
     "output_type": "execute_result"
    }
   ],
   "source": [
    "list"
   ]
  },
  {
   "cell_type": "code",
   "execution_count": 31,
   "id": "ac5b3d1e",
   "metadata": {},
   "outputs": [],
   "source": [
    "list.append(\"jerry\")"
   ]
  },
  {
   "cell_type": "code",
   "execution_count": 32,
   "id": "85294b67",
   "metadata": {},
   "outputs": [],
   "source": [
    "list.append(\"Telephone\")"
   ]
  },
  {
   "cell_type": "code",
   "execution_count": 36,
   "id": "272c3b49",
   "metadata": {},
   "outputs": [],
   "source": [
    "list.sort(key=len)"
   ]
  },
  {
   "cell_type": "code",
   "execution_count": 34,
   "id": "4a11ccf0",
   "metadata": {},
   "outputs": [
    {
     "data": {
      "text/plain": [
       "['hi', 'am', 'here', 'jerry', 'Telephone']"
      ]
     },
     "execution_count": 34,
     "metadata": {},
     "output_type": "execute_result"
    }
   ],
   "source": [
    "list"
   ]
  },
  {
   "cell_type": "code",
   "execution_count": 37,
   "id": "2fee7fe8",
   "metadata": {},
   "outputs": [],
   "source": [
    "list.reverse()"
   ]
  },
  {
   "cell_type": "code",
   "execution_count": 38,
   "id": "74fa1e5a",
   "metadata": {},
   "outputs": [
    {
     "data": {
      "text/plain": [
       "['Telephone', 'jerry', 'here', 'am', 'hi']"
      ]
     },
     "execution_count": 38,
     "metadata": {},
     "output_type": "execute_result"
    }
   ],
   "source": [
    "list"
   ]
  },
  {
   "cell_type": "code",
   "execution_count": 43,
   "id": "8b207449",
   "metadata": {},
   "outputs": [],
   "source": [
    "list.sort(key=len)\n",
    "list.reverse()"
   ]
  },
  {
   "cell_type": "code",
   "execution_count": 44,
   "id": "8be62a94",
   "metadata": {},
   "outputs": [
    {
     "data": {
      "text/plain": [
       "['Telephone', 'jerry', 'here', 'hi', 'am']"
      ]
     },
     "execution_count": 44,
     "metadata": {},
     "output_type": "execute_result"
    }
   ],
   "source": [
    "list\n"
   ]
  },
  {
   "cell_type": "code",
   "execution_count": 45,
   "id": "d3ad0dc3",
   "metadata": {},
   "outputs": [],
   "source": [
    "list.sort()"
   ]
  },
  {
   "cell_type": "code",
   "execution_count": 46,
   "id": "a767d845",
   "metadata": {},
   "outputs": [
    {
     "data": {
      "text/plain": [
       "['Telephone', 'am', 'here', 'hi', 'jerry']"
      ]
     },
     "execution_count": 46,
     "metadata": {},
     "output_type": "execute_result"
    }
   ],
   "source": [
    "list"
   ]
  },
  {
   "cell_type": "code",
   "execution_count": 47,
   "id": "1ff14099",
   "metadata": {},
   "outputs": [],
   "source": [
    "list.append(\"Larry\")"
   ]
  },
  {
   "cell_type": "code",
   "execution_count": 48,
   "id": "391849c8",
   "metadata": {},
   "outputs": [
    {
     "data": {
      "text/plain": [
       "['Telephone', 'am', 'here', 'hi', 'jerry', 'Larry']"
      ]
     },
     "execution_count": 48,
     "metadata": {},
     "output_type": "execute_result"
    }
   ],
   "source": [
    "list"
   ]
  },
  {
   "cell_type": "code",
   "execution_count": 49,
   "id": "8c025b22",
   "metadata": {},
   "outputs": [],
   "source": [
    "list.sort()"
   ]
  },
  {
   "cell_type": "code",
   "execution_count": 50,
   "id": "525a0757",
   "metadata": {},
   "outputs": [
    {
     "data": {
      "text/plain": [
       "['Larry', 'Telephone', 'am', 'here', 'hi', 'jerry']"
      ]
     },
     "execution_count": 50,
     "metadata": {},
     "output_type": "execute_result"
    }
   ],
   "source": [
    "list"
   ]
  },
  {
   "cell_type": "code",
   "execution_count": null,
   "id": "4f74c64b",
   "metadata": {},
   "outputs": [],
   "source": [
    "list"
   ]
  }
 ],
 "metadata": {
  "kernelspec": {
   "display_name": "Python 3 (ipykernel)",
   "language": "python",
   "name": "python3"
  },
  "language_info": {
   "codemirror_mode": {
    "name": "ipython",
    "version": 3
   },
   "file_extension": ".py",
   "mimetype": "text/x-python",
   "name": "python",
   "nbconvert_exporter": "python",
   "pygments_lexer": "ipython3",
   "version": "3.9.13"
  }
 },
 "nbformat": 4,
 "nbformat_minor": 5
}
